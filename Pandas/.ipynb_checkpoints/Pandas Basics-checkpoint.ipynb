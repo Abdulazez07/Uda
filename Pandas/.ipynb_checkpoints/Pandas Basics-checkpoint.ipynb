{
 "cells": [
  {
   "cell_type": "code",
   "execution_count": 1,
   "id": "4d884a46",
   "metadata": {},
   "outputs": [
    {
     "data": {
      "text/plain": [
       "omar         married\n",
       "abdulaziz     single\n",
       "ahmed         single\n",
       "mohammed     married\n",
       "dtype: object"
      ]
     },
     "execution_count": 1,
     "metadata": {},
     "output_type": "execute_result"
    }
   ],
   "source": [
    "import pandas as pd\n",
    "\n",
    "da = pd.Series(data=[\"married\",\"single\",\"single\",\"married\"],index=[\"omar\",\"abdulaziz\",\"ahmed\",\"mohammed\"])\n",
    "da"
   ]
  },
  {
   "cell_type": "code",
   "execution_count": 2,
   "id": "8c1c9802",
   "metadata": {},
   "outputs": [
    {
     "data": {
      "text/plain": [
       "Index(['omar', 'abdulaziz', 'ahmed', 'mohammed'], dtype='object')"
      ]
     },
     "execution_count": 2,
     "metadata": {},
     "output_type": "execute_result"
    }
   ],
   "source": [
    "da.index"
   ]
  },
  {
   "cell_type": "code",
   "execution_count": 3,
   "id": "0d9f49fe",
   "metadata": {},
   "outputs": [
    {
     "data": {
      "text/plain": [
       "array(['married', 'single', 'single', 'married'], dtype=object)"
      ]
     },
     "execution_count": 3,
     "metadata": {},
     "output_type": "execute_result"
    }
   ],
   "source": [
    "da.values"
   ]
  },
  {
   "cell_type": "code",
   "execution_count": 6,
   "id": "75d01ad6",
   "metadata": {},
   "outputs": [
    {
     "data": {
      "text/plain": [
       "'married'"
      ]
     },
     "execution_count": 6,
     "metadata": {},
     "output_type": "execute_result"
    }
   ],
   "source": [
    "da[3]"
   ]
  },
  {
   "cell_type": "code",
   "execution_count": 7,
   "id": "89fa43fe",
   "metadata": {},
   "outputs": [
    {
     "data": {
      "text/plain": [
       "(4,)"
      ]
     },
     "execution_count": 7,
     "metadata": {},
     "output_type": "execute_result"
    }
   ],
   "source": [
    "da.shape"
   ]
  },
  {
   "cell_type": "code",
   "execution_count": 8,
   "id": "88613753",
   "metadata": {},
   "outputs": [
    {
     "data": {
      "text/plain": [
       "4"
      ]
     },
     "execution_count": 8,
     "metadata": {},
     "output_type": "execute_result"
    }
   ],
   "source": [
    "da.size"
   ]
  },
  {
   "cell_type": "code",
   "execution_count": 9,
   "id": "670c41f5",
   "metadata": {},
   "outputs": [
    {
     "data": {
      "text/plain": [
       "1"
      ]
     },
     "execution_count": 9,
     "metadata": {},
     "output_type": "execute_result"
    }
   ],
   "source": [
    "da.ndim"
   ]
  },
  {
   "cell_type": "code",
   "execution_count": 10,
   "id": "dd35a0d8",
   "metadata": {},
   "outputs": [
    {
     "data": {
      "text/plain": [
       "True"
      ]
     },
     "execution_count": 10,
     "metadata": {},
     "output_type": "execute_result"
    }
   ],
   "source": [
    "\"omar\" in da"
   ]
  },
  {
   "cell_type": "code",
   "execution_count": 12,
   "id": "59e408ef",
   "metadata": {},
   "outputs": [
    {
     "data": {
      "text/plain": [
       "False"
      ]
     },
     "execution_count": 12,
     "metadata": {},
     "output_type": "execute_result"
    }
   ],
   "source": [
    "\"married\" in da"
   ]
  },
  {
   "cell_type": "code",
   "execution_count": 14,
   "id": "3ae2a00a",
   "metadata": {},
   "outputs": [
    {
     "data": {
      "text/plain": [
       "omar         married\n",
       "abdulaziz     single\n",
       "dtype: object"
      ]
     },
     "execution_count": 14,
     "metadata": {},
     "output_type": "execute_result"
    }
   ],
   "source": [
    "da[[0,1]]"
   ]
  },
  {
   "cell_type": "code",
   "execution_count": null,
   "id": "a6d959df",
   "metadata": {},
   "outputs": [],
   "source": []
  }
 ],
 "metadata": {
  "kernelspec": {
   "display_name": "Python 3 (ipykernel)",
   "language": "python",
   "name": "python3"
  },
  "language_info": {
   "codemirror_mode": {
    "name": "ipython",
    "version": 3
   },
   "file_extension": ".py",
   "mimetype": "text/x-python",
   "name": "python",
   "nbconvert_exporter": "python",
   "pygments_lexer": "ipython3",
   "version": "3.9.15"
  }
 },
 "nbformat": 4,
 "nbformat_minor": 5
}
