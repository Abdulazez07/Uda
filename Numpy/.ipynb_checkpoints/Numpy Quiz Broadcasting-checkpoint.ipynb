{
 "cells": [
  {
   "cell_type": "markdown",
   "id": "2d275f75",
   "metadata": {},
   "source": [
    "Use Broadcasting to create a 4 x 4 ndarray that has its first column full of `1`s, its second column full of `2`s, its third column full of `3`s, etc.."
   ]
  },
  {
   "cell_type": "code",
   "execution_count": 3,
   "id": "56e73e1e",
   "metadata": {},
   "outputs": [
    {
     "name": "stdout",
     "output_type": "stream",
     "text": [
      "[[1. 1. 1. 1.]\n",
      " [1. 1. 1. 1.]\n",
      " [1. 1. 1. 1.]\n",
      " [1. 1. 1. 1.]]\n",
      "[[1. 2. 3. 4.]\n",
      " [1. 2. 3. 4.]\n",
      " [1. 2. 3. 4.]\n",
      " [1. 2. 3. 4.]]\n"
     ]
    }
   ],
   "source": [
    "#my solution\n",
    "import numpy as np\n",
    "\n",
    "# Replace None with appropriate code\n",
    "X = np.ones(16).reshape(4,4)\n",
    "print(X)\n",
    "\n",
    "\n",
    "Y = np.arange(4)\n",
    "\n",
    "X = X + Y\n",
    "print(X)"
   ]
  },
  {
   "cell_type": "code",
   "execution_count": 5,
   "id": "cdcbd657",
   "metadata": {},
   "outputs": [
    {
     "name": "stdout",
     "output_type": "stream",
     "text": [
      "[[1. 2. 3. 4.]\n",
      " [1. 2. 3. 4.]\n",
      " [1. 2. 3. 4.]\n",
      " [1. 2. 3. 4.]]\n"
     ]
    }
   ],
   "source": [
    "#the optimal solution\n",
    "\n",
    "X = np.ones((4,4)) * np.arange(1,5)\n",
    "\n",
    "print(X)"
   ]
  },
  {
   "cell_type": "code",
   "execution_count": null,
   "id": "c5f9c4f6",
   "metadata": {},
   "outputs": [],
   "source": []
  }
 ],
 "metadata": {
  "kernelspec": {
   "display_name": "Python 3 (ipykernel)",
   "language": "python",
   "name": "python3"
  },
  "language_info": {
   "codemirror_mode": {
    "name": "ipython",
    "version": 3
   },
   "file_extension": ".py",
   "mimetype": "text/x-python",
   "name": "python",
   "nbconvert_exporter": "python",
   "pygments_lexer": "ipython3",
   "version": "3.9.15"
  }
 },
 "nbformat": 4,
 "nbformat_minor": 5
}
